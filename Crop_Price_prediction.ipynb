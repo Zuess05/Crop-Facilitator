{
 "cells": [
  {
   "cell_type": "code",
   "execution_count": 1,
   "id": "bd5e522a",
   "metadata": {},
   "outputs": [],
   "source": [
    "import pandas as pd\n",
    "import numpy as np\n",
    "import xgboost as xgb\n",
    "import pickle\n",
    "from sklearn.preprocessing import StandardScaler\n",
    "from sklearn.pipeline import Pipeline\n",
    "from sklearn.model_selection import RandomizedSearchCV\n",
    "from sklearn.model_selection import train_test_split\n",
    "from sklearn.preprocessing import LabelEncoder,OneHotEncoder\n",
    "from sklearn.metrics import accuracy_score\n",
    "from sklearn.ensemble import RandomForestRegressor\n",
    "import bz2\n",
    "import _pickle as cPickle"
   ]
  },
  {
   "cell_type": "code",
   "execution_count": 2,
   "id": "4ad5c066",
   "metadata": {},
   "outputs": [],
   "source": [
    "df = pd.read_csv(\"agridata_csv_202110311352.csv\")"
   ]
  },
  {
   "cell_type": "code",
   "execution_count": 3,
   "id": "b094d7d9",
   "metadata": {},
   "outputs": [
    {
     "name": "stdout",
     "output_type": "stream",
     "text": [
      "<class 'pandas.core.frame.DataFrame'>\n",
      "RangeIndex: 836977 entries, 0 to 836976\n",
      "Data columns (total 8 columns):\n",
      " #   Column          Non-Null Count   Dtype  \n",
      "---  ------          --------------   -----  \n",
      " 0   commodity_name  836977 non-null  object \n",
      " 1   state           836977 non-null  object \n",
      " 2   district        836977 non-null  object \n",
      " 3   market          836977 non-null  object \n",
      " 4   min_price       836976 non-null  float64\n",
      " 5   max_price       836976 non-null  float64\n",
      " 6   modal_price     836976 non-null  float64\n",
      " 7   date            836976 non-null  object \n",
      "dtypes: float64(3), object(5)\n",
      "memory usage: 51.1+ MB\n"
     ]
    }
   ],
   "source": [
    "df.info()"
   ]
  },
  {
   "cell_type": "code",
   "execution_count": 4,
   "id": "d3d15335",
   "metadata": {},
   "outputs": [
    {
     "data": {
      "text/html": [
       "<div>\n",
       "<style scoped>\n",
       "    .dataframe tbody tr th:only-of-type {\n",
       "        vertical-align: middle;\n",
       "    }\n",
       "\n",
       "    .dataframe tbody tr th {\n",
       "        vertical-align: top;\n",
       "    }\n",
       "\n",
       "    .dataframe thead th {\n",
       "        text-align: right;\n",
       "    }\n",
       "</style>\n",
       "<table border=\"1\" class=\"dataframe\">\n",
       "  <thead>\n",
       "    <tr style=\"text-align: right;\">\n",
       "      <th></th>\n",
       "      <th>commodity_name</th>\n",
       "      <th>state</th>\n",
       "      <th>district</th>\n",
       "      <th>market</th>\n",
       "      <th>min_price</th>\n",
       "      <th>max_price</th>\n",
       "      <th>modal_price</th>\n",
       "      <th>date</th>\n",
       "    </tr>\n",
       "  </thead>\n",
       "  <tbody>\n",
       "    <tr>\n",
       "      <th>0</th>\n",
       "      <td>Ajwan</td>\n",
       "      <td>Gujarat</td>\n",
       "      <td>Amreli</td>\n",
       "      <td>Amreli</td>\n",
       "      <td>63.25</td>\n",
       "      <td>79.55</td>\n",
       "      <td>79.55</td>\n",
       "      <td>22-05-19</td>\n",
       "    </tr>\n",
       "    <tr>\n",
       "      <th>1</th>\n",
       "      <td>Ajwan</td>\n",
       "      <td>Gujarat</td>\n",
       "      <td>Banaskanth</td>\n",
       "      <td>Dhanera</td>\n",
       "      <td>80.05</td>\n",
       "      <td>80.05</td>\n",
       "      <td>80.05</td>\n",
       "      <td>22-05-19</td>\n",
       "    </tr>\n",
       "    <tr>\n",
       "      <th>2</th>\n",
       "      <td>Ajwan</td>\n",
       "      <td>Gujarat</td>\n",
       "      <td>Jamnagar</td>\n",
       "      <td>Jamnagar</td>\n",
       "      <td>90.00</td>\n",
       "      <td>155.00</td>\n",
       "      <td>122.50</td>\n",
       "      <td>22-05-19</td>\n",
       "    </tr>\n",
       "    <tr>\n",
       "      <th>3</th>\n",
       "      <td>Ajwan</td>\n",
       "      <td>Gujarat</td>\n",
       "      <td>Mehsana</td>\n",
       "      <td>Kadi</td>\n",
       "      <td>94.50</td>\n",
       "      <td>112.50</td>\n",
       "      <td>107.00</td>\n",
       "      <td>22-05-19</td>\n",
       "    </tr>\n",
       "    <tr>\n",
       "      <th>4</th>\n",
       "      <td>Ajwan</td>\n",
       "      <td>Gujarat</td>\n",
       "      <td>Mehsana</td>\n",
       "      <td>Unjha</td>\n",
       "      <td>21.25</td>\n",
       "      <td>148.50</td>\n",
       "      <td>99.75</td>\n",
       "      <td>22-05-19</td>\n",
       "    </tr>\n",
       "  </tbody>\n",
       "</table>\n",
       "</div>"
      ],
      "text/plain": [
       "  commodity_name    state    district    market  min_price  max_price  \\\n",
       "0          Ajwan  Gujarat      Amreli    Amreli      63.25      79.55   \n",
       "1          Ajwan  Gujarat  Banaskanth   Dhanera      80.05      80.05   \n",
       "2          Ajwan  Gujarat    Jamnagar  Jamnagar      90.00     155.00   \n",
       "3          Ajwan  Gujarat     Mehsana      Kadi      94.50     112.50   \n",
       "4          Ajwan  Gujarat     Mehsana     Unjha      21.25     148.50   \n",
       "\n",
       "   modal_price      date  \n",
       "0        79.55  22-05-19  \n",
       "1        80.05  22-05-19  \n",
       "2       122.50  22-05-19  \n",
       "3       107.00  22-05-19  \n",
       "4        99.75  22-05-19  "
      ]
     },
     "execution_count": 4,
     "metadata": {},
     "output_type": "execute_result"
    }
   ],
   "source": [
    "df.head()"
   ]
  },
  {
   "cell_type": "code",
   "execution_count": 5,
   "id": "2d202474",
   "metadata": {},
   "outputs": [],
   "source": [
    "df = df.dropna()"
   ]
  },
  {
   "cell_type": "code",
   "execution_count": 6,
   "id": "d9d6a218",
   "metadata": {},
   "outputs": [
    {
     "name": "stdout",
     "output_type": "stream",
     "text": [
      "<class 'pandas.core.frame.DataFrame'>\n",
      "Int64Index: 836976 entries, 0 to 836976\n",
      "Data columns (total 8 columns):\n",
      " #   Column          Non-Null Count   Dtype  \n",
      "---  ------          --------------   -----  \n",
      " 0   commodity_name  836976 non-null  object \n",
      " 1   state           836976 non-null  object \n",
      " 2   district        836976 non-null  object \n",
      " 3   market          836976 non-null  object \n",
      " 4   min_price       836976 non-null  float64\n",
      " 5   max_price       836976 non-null  float64\n",
      " 6   modal_price     836976 non-null  float64\n",
      " 7   date            836976 non-null  object \n",
      "dtypes: float64(3), object(5)\n",
      "memory usage: 57.5+ MB\n"
     ]
    }
   ],
   "source": [
    "df.info()"
   ]
  },
  {
   "cell_type": "code",
   "execution_count": 7,
   "id": "3418680f",
   "metadata": {},
   "outputs": [],
   "source": [
    "X = df.iloc[:,:-2]"
   ]
  },
  {
   "cell_type": "code",
   "execution_count": 8,
   "id": "491858f4",
   "metadata": {},
   "outputs": [],
   "source": [
    "rf = RandomForestRegressor()"
   ]
  },
  {
   "cell_type": "code",
   "execution_count": 9,
   "id": "bb9ee210",
   "metadata": {},
   "outputs": [],
   "source": [
    "le  = LabelEncoder()"
   ]
  },
  {
   "cell_type": "code",
   "execution_count": 10,
   "id": "a2d924cb",
   "metadata": {},
   "outputs": [],
   "source": [
    "X['commodity_name'] = le.fit_transform(X['commodity_name'])\n",
    "X['state'] = le.fit_transform(X['state'])\n",
    "X['district'] = le.fit_transform(X['district'])\n",
    "X['market'] = le.fit_transform(X['market'])"
   ]
  },
  {
   "cell_type": "code",
   "execution_count": 11,
   "id": "c4d8ead5",
   "metadata": {},
   "outputs": [],
   "source": [
    "Y = df['modal_price']"
   ]
  },
  {
   "cell_type": "code",
   "execution_count": 12,
   "id": "386d6f00",
   "metadata": {},
   "outputs": [],
   "source": [
    "X_train,X_test,Y_train,Y_test = train_test_split(X,Y,test_size=0.3,random_state=42)"
   ]
  },
  {
   "cell_type": "code",
   "execution_count": 13,
   "id": "d0aff48b",
   "metadata": {},
   "outputs": [
    {
     "data": {
      "text/html": [
       "<style>#sk-container-id-1 {color: black;background-color: white;}#sk-container-id-1 pre{padding: 0;}#sk-container-id-1 div.sk-toggleable {background-color: white;}#sk-container-id-1 label.sk-toggleable__label {cursor: pointer;display: block;width: 100%;margin-bottom: 0;padding: 0.3em;box-sizing: border-box;text-align: center;}#sk-container-id-1 label.sk-toggleable__label-arrow:before {content: \"▸\";float: left;margin-right: 0.25em;color: #696969;}#sk-container-id-1 label.sk-toggleable__label-arrow:hover:before {color: black;}#sk-container-id-1 div.sk-estimator:hover label.sk-toggleable__label-arrow:before {color: black;}#sk-container-id-1 div.sk-toggleable__content {max-height: 0;max-width: 0;overflow: hidden;text-align: left;background-color: #f0f8ff;}#sk-container-id-1 div.sk-toggleable__content pre {margin: 0.2em;color: black;border-radius: 0.25em;background-color: #f0f8ff;}#sk-container-id-1 input.sk-toggleable__control:checked~div.sk-toggleable__content {max-height: 200px;max-width: 100%;overflow: auto;}#sk-container-id-1 input.sk-toggleable__control:checked~label.sk-toggleable__label-arrow:before {content: \"▾\";}#sk-container-id-1 div.sk-estimator input.sk-toggleable__control:checked~label.sk-toggleable__label {background-color: #d4ebff;}#sk-container-id-1 div.sk-label input.sk-toggleable__control:checked~label.sk-toggleable__label {background-color: #d4ebff;}#sk-container-id-1 input.sk-hidden--visually {border: 0;clip: rect(1px 1px 1px 1px);clip: rect(1px, 1px, 1px, 1px);height: 1px;margin: -1px;overflow: hidden;padding: 0;position: absolute;width: 1px;}#sk-container-id-1 div.sk-estimator {font-family: monospace;background-color: #f0f8ff;border: 1px dotted black;border-radius: 0.25em;box-sizing: border-box;margin-bottom: 0.5em;}#sk-container-id-1 div.sk-estimator:hover {background-color: #d4ebff;}#sk-container-id-1 div.sk-parallel-item::after {content: \"\";width: 100%;border-bottom: 1px solid gray;flex-grow: 1;}#sk-container-id-1 div.sk-label:hover label.sk-toggleable__label {background-color: #d4ebff;}#sk-container-id-1 div.sk-serial::before {content: \"\";position: absolute;border-left: 1px solid gray;box-sizing: border-box;top: 0;bottom: 0;left: 50%;z-index: 0;}#sk-container-id-1 div.sk-serial {display: flex;flex-direction: column;align-items: center;background-color: white;padding-right: 0.2em;padding-left: 0.2em;position: relative;}#sk-container-id-1 div.sk-item {position: relative;z-index: 1;}#sk-container-id-1 div.sk-parallel {display: flex;align-items: stretch;justify-content: center;background-color: white;position: relative;}#sk-container-id-1 div.sk-item::before, #sk-container-id-1 div.sk-parallel-item::before {content: \"\";position: absolute;border-left: 1px solid gray;box-sizing: border-box;top: 0;bottom: 0;left: 50%;z-index: -1;}#sk-container-id-1 div.sk-parallel-item {display: flex;flex-direction: column;z-index: 1;position: relative;background-color: white;}#sk-container-id-1 div.sk-parallel-item:first-child::after {align-self: flex-end;width: 50%;}#sk-container-id-1 div.sk-parallel-item:last-child::after {align-self: flex-start;width: 50%;}#sk-container-id-1 div.sk-parallel-item:only-child::after {width: 0;}#sk-container-id-1 div.sk-dashed-wrapped {border: 1px dashed gray;margin: 0 0.4em 0.5em 0.4em;box-sizing: border-box;padding-bottom: 0.4em;background-color: white;}#sk-container-id-1 div.sk-label label {font-family: monospace;font-weight: bold;display: inline-block;line-height: 1.2em;}#sk-container-id-1 div.sk-label-container {text-align: center;}#sk-container-id-1 div.sk-container {/* jupyter's `normalize.less` sets `[hidden] { display: none; }` but bootstrap.min.css set `[hidden] { display: none !important; }` so we also need the `!important` here to be able to override the default hidden behavior on the sphinx rendered scikit-learn.org. See: https://github.com/scikit-learn/scikit-learn/issues/21755 */display: inline-block !important;position: relative;}#sk-container-id-1 div.sk-text-repr-fallback {display: none;}</style><div id=\"sk-container-id-1\" class=\"sk-top-container\"><div class=\"sk-text-repr-fallback\"><pre>RandomForestRegressor()</pre><b>In a Jupyter environment, please rerun this cell to show the HTML representation or trust the notebook. <br />On GitHub, the HTML representation is unable to render, please try loading this page with nbviewer.org.</b></div><div class=\"sk-container\" hidden><div class=\"sk-item\"><div class=\"sk-estimator sk-toggleable\"><input class=\"sk-toggleable__control sk-hidden--visually\" id=\"sk-estimator-id-1\" type=\"checkbox\" checked><label for=\"sk-estimator-id-1\" class=\"sk-toggleable__label sk-toggleable__label-arrow\">RandomForestRegressor</label><div class=\"sk-toggleable__content\"><pre>RandomForestRegressor()</pre></div></div></div></div></div>"
      ],
      "text/plain": [
       "RandomForestRegressor()"
      ]
     },
     "execution_count": 13,
     "metadata": {},
     "output_type": "execute_result"
    }
   ],
   "source": [
    "rf.fit(X_train,Y_train)"
   ]
  },
  {
   "cell_type": "code",
   "execution_count": 14,
   "id": "f8c14b33",
   "metadata": {},
   "outputs": [
    {
     "data": {
      "text/plain": [
       "0.9711153468461666"
      ]
     },
     "execution_count": 14,
     "metadata": {},
     "output_type": "execute_result"
    }
   ],
   "source": [
    "rf.score(X_test,Y_test)"
   ]
  },
  {
   "cell_type": "code",
   "execution_count": 15,
   "id": "e514fe1f",
   "metadata": {},
   "outputs": [],
   "source": [
    "le_c = LabelEncoder()\n",
    "le_s = LabelEncoder()\n",
    "le_d = LabelEncoder()\n",
    "le_m = LabelEncoder()"
   ]
  },
  {
   "cell_type": "code",
   "execution_count": 17,
   "id": "12d18388",
   "metadata": {},
   "outputs": [],
   "source": [
    "deploy = {'model':rf , 'le_c': le_c,'le_s':le_s,'le_d':le_d,'le_m':le_m}\n",
    "file = bz2.BZ2File('saved_steps.pkl.bz2','wb')\n",
    "cPickle.dump(deploy,file)\n",
    "file.close()"
   ]
  },
  {
   "cell_type": "code",
   "execution_count": 17,
   "id": "522b96db",
   "metadata": {},
   "outputs": [],
   "source": [
    "file = bz2.BZ2File('saved_steps.pkl.bz2','rb')\n",
    "mod = pickle.load(file)"
   ]
  },
  {
   "cell_type": "code",
   "execution_count": 18,
   "id": "e0a9a48e",
   "metadata": {},
   "outputs": [
    {
     "data": {
      "text/plain": [
       "array(['Amreli', 'Dhanera', 'Jamnagar', ..., 'Hingoli(Kanegoan Naka)',\n",
       "       'Jalgaon Jamod(Aasalgaon)', 'Nagarkurnool'], dtype=object)"
      ]
     },
     "execution_count": 18,
     "metadata": {},
     "output_type": "execute_result"
    }
   ],
   "source": [
    "df['market'].unique()"
   ]
  },
  {
   "cell_type": "code",
   "execution_count": null,
   "id": "a76c7945",
   "metadata": {},
   "outputs": [],
   "source": []
  },
  {
   "cell_type": "code",
   "execution_count": null,
   "id": "9c53a8e3",
   "metadata": {},
   "outputs": [],
   "source": []
  }
 ],
 "metadata": {
  "kernelspec": {
   "display_name": "Python 3.10.5 64-bit",
   "language": "python",
   "name": "python3"
  },
  "language_info": {
   "codemirror_mode": {
    "name": "ipython",
    "version": 3
   },
   "file_extension": ".py",
   "mimetype": "text/x-python",
   "name": "python",
   "nbconvert_exporter": "python",
   "pygments_lexer": "ipython3",
   "version": "3.10.5"
  },
  "vscode": {
   "interpreter": {
    "hash": "26de051ba29f2982a8de78e945f0abaf191376122a1563185a90213a26c5da77"
   }
  }
 },
 "nbformat": 4,
 "nbformat_minor": 5
}
